{
 "cells": [
  {
   "cell_type": "markdown",
   "metadata": {},
   "source": [
    "# Capítulo 2. Nombres y Valores\n",
    "\n",
    "\n",
    "# Quizes \n",
    "\n",
    "#### **Ch.2 - Q1. Dado el siguiente `dataframe`, ¿cómo puedo crear una nueva columna llamada \"3\" que contenga la suma de `1` y `2`? Sólo puede utilizarse `$`, no `[[`. ¿Qué es lo que hace a 1, 2 y 3 nombres complicados para las variables?**"
   ]
  },
  {
   "cell_type": "code",
   "execution_count": 3,
   "metadata": {},
   "outputs": [
    {
     "data": {
      "text/html": [
       "<table>\n",
       "<thead><tr><th scope=col>1</th><th scope=col>2</th></tr></thead>\n",
       "<tbody>\n",
       "\t<tr><td>0.68642441</td><td>0.1093720 </td></tr>\n",
       "\t<tr><td>0.01765386</td><td>0.4486058 </td></tr>\n",
       "\t<tr><td>0.63000495</td><td>0.6522306 </td></tr>\n",
       "</tbody>\n",
       "</table>\n"
      ],
      "text/latex": [
       "\\begin{tabular}{r|ll}\n",
       " 1 & 2\\\\\n",
       "\\hline\n",
       "\t 0.68642441 & 0.1093720 \\\\\n",
       "\t 0.01765386 & 0.4486058 \\\\\n",
       "\t 0.63000495 & 0.6522306 \\\\\n",
       "\\end{tabular}\n"
      ],
      "text/markdown": [
       "\n",
       "1 | 2 | \n",
       "|---|---|---|\n",
       "| 0.68642441 | 0.1093720  | \n",
       "| 0.01765386 | 0.4486058  | \n",
       "| 0.63000495 | 0.6522306  | \n",
       "\n",
       "\n"
      ],
      "text/plain": [
       "  1          2        \n",
       "1 0.68642441 0.1093720\n",
       "2 0.01765386 0.4486058\n",
       "3 0.63000495 0.6522306"
      ]
     },
     "metadata": {},
     "output_type": "display_data"
    },
    {
     "data": {
      "text/html": [
       "<table>\n",
       "<thead><tr><th scope=col>1</th><th scope=col>2</th><th scope=col>3</th></tr></thead>\n",
       "<tbody>\n",
       "\t<tr><td>0.68642441</td><td>0.1093720 </td><td>0.7957964 </td></tr>\n",
       "\t<tr><td>0.01765386</td><td>0.4486058 </td><td>0.4662597 </td></tr>\n",
       "\t<tr><td>0.63000495</td><td>0.6522306 </td><td>1.2822355 </td></tr>\n",
       "</tbody>\n",
       "</table>\n"
      ],
      "text/latex": [
       "\\begin{tabular}{r|lll}\n",
       " 1 & 2 & 3\\\\\n",
       "\\hline\n",
       "\t 0.68642441 & 0.1093720  & 0.7957964 \\\\\n",
       "\t 0.01765386 & 0.4486058  & 0.4662597 \\\\\n",
       "\t 0.63000495 & 0.6522306  & 1.2822355 \\\\\n",
       "\\end{tabular}\n"
      ],
      "text/markdown": [
       "\n",
       "1 | 2 | 3 | \n",
       "|---|---|---|\n",
       "| 0.68642441 | 0.1093720  | 0.7957964  | \n",
       "| 0.01765386 | 0.4486058  | 0.4662597  | \n",
       "| 0.63000495 | 0.6522306  | 1.2822355  | \n",
       "\n",
       "\n"
      ],
      "text/plain": [
       "  1          2         3        \n",
       "1 0.68642441 0.1093720 0.7957964\n",
       "2 0.01765386 0.4486058 0.4662597\n",
       "3 0.63000495 0.6522306 1.2822355"
      ]
     },
     "metadata": {},
     "output_type": "display_data"
    }
   ],
   "source": [
    "# Creamos el dataframe como dice el libro:\n",
    "df <- data.frame(runif(3), runif(3))\n",
    "names(df) <- c(1,2)\n",
    "head(df)\n",
    "\n",
    "# PROPUESTA DE RESPUESTA:\n",
    "df$`3` <- df$`1` + df$`2`\n",
    "head(df)"
   ]
  },
  {
   "cell_type": "markdown",
   "metadata": {},
   "source": [
    "**Explicación: ** `R` tiene reglas explicitas acerca de lo que constituye un nombre válido. Estos pueden contener letras, dígitos y guiones bajos (`_`) **pero** no pueden empezar con (`_`), ni con un dígito, (mucho menos ser un dígito). Tampoco se pueden usar palabras reservadas (escribir `?Reserved` para ver cuales son estas palabras reservadas).\n",
    "\n",
    "Si uno quiere evadir estas reglas puede utilizar *backstiks* (`); rodeando cualquier secuencia de caracteres. "
   ]
  },
  {
   "cell_type": "markdown",
   "metadata": {},
   "source": [
    "#### **Ch.2 - Q2. En el siguiente código, ¿Cuanta memoria ocupa `y`?**"
   ]
  },
  {
   "cell_type": "code",
   "execution_count": 4,
   "metadata": {},
   "outputs": [
    {
     "name": "stdout",
     "output_type": "stream",
     "text": [
      "24000224 bytes\n"
     ]
    },
    {
     "data": {
      "text/plain": [
       "8,000,048 B"
      ]
     },
     "metadata": {},
     "output_type": "display_data"
    },
    {
     "data": {
      "text/plain": [
       "8,000,128 B"
      ]
     },
     "metadata": {},
     "output_type": "display_data"
    }
   ],
   "source": [
    "x <- runif(1e6)\n",
    "y <- list(x,x,x)\n",
    "\n",
    "# PROPUESTA DE SOLUCION\n",
    "\n",
    "# 1. Utilizando la función object.size()\n",
    "print(object.size(y))\n",
    "\n",
    "# 2. Usando la libreria lobstr, la cual nos sirve para examinar \n",
    "#mas de cerca la representación interna de los objetos de R\n",
    "\n",
    "lobstr::obj_size(x)\n",
    "lobstr::obj_size(y)\n"
   ]
  },
  {
   "cell_type": "markdown",
   "metadata": {},
   "source": [
    "**Explicación:** Del código anterior se pueden observar 2 cosas: 1) el tamaño del objeto `y` es mucho mas grande (tres veces mas grande) si utilizamos la función `object.size()` en vez de `lobstr::obj_size`, ademas de que, según esta última función, el objeto `y` es sólamente 80 B mas grande que el objeto `x`. (80 B es justo el tamaño de una lista de tres elementos vacíos).\n",
    "\n",
    "La razón por la cual la primera función da un valor tres veces más grande es porque la función `utils::object_size()` no toma en cuenta las referencias compartidas. En este caso contó tres veces al objeto `x`, a diferencia de la otra función, que sólo lo contó una vez (como debe de ser).\n",
    "Mayor explicación en el capítulo 2.2 del libro de Wickham."
   ]
  },
  {
   "cell_type": "markdown",
   "metadata": {},
   "source": [
    "#### **Ch.2 - Q3. ¿En qué línea del siguiente ejemplo es copiada `a`? **"
   ]
  },
  {
   "cell_type": "code",
   "execution_count": 5,
   "metadata": {},
   "outputs": [
    {
     "data": {
      "text/html": [
       "'0x5593a58'"
      ],
      "text/latex": [
       "'0x5593a58'"
      ],
      "text/markdown": [
       "'0x5593a58'"
      ],
      "text/plain": [
       "[1] \"0x5593a58\""
      ]
     },
     "metadata": {},
     "output_type": "display_data"
    },
    {
     "data": {
      "text/html": [
       "'0x5593a58'"
      ],
      "text/latex": [
       "'0x5593a58'"
      ],
      "text/markdown": [
       "'0x5593a58'"
      ],
      "text/plain": [
       "[1] \"0x5593a58\""
      ]
     },
     "metadata": {},
     "output_type": "display_data"
    },
    {
     "data": {
      "text/html": [
       "TRUE"
      ],
      "text/latex": [
       "TRUE"
      ],
      "text/markdown": [
       "TRUE"
      ],
      "text/plain": [
       "[1] TRUE"
      ]
     },
     "metadata": {},
     "output_type": "display_data"
    },
    {
     "data": {
      "text/html": [
       "'0x5593a58'"
      ],
      "text/latex": [
       "'0x5593a58'"
      ],
      "text/markdown": [
       "'0x5593a58'"
      ],
      "text/plain": [
       "[1] \"0x5593a58\""
      ]
     },
     "metadata": {},
     "output_type": "display_data"
    },
    {
     "data": {
      "text/html": [
       "'0x59fdb78'"
      ],
      "text/latex": [
       "'0x59fdb78'"
      ],
      "text/markdown": [
       "'0x59fdb78'"
      ],
      "text/plain": [
       "[1] \"0x59fdb78\""
      ]
     },
     "metadata": {},
     "output_type": "display_data"
    },
    {
     "data": {
      "text/html": [
       "FALSE"
      ],
      "text/latex": [
       "FALSE"
      ],
      "text/markdown": [
       "FALSE"
      ],
      "text/plain": [
       "[1] FALSE"
      ]
     },
     "metadata": {},
     "output_type": "display_data"
    }
   ],
   "source": [
    "a <- c(1,5,3,2)\n",
    "b <- a\n",
    "b[[1]] <- 10\n",
    "\n"
   ]
  },
  {
   "cell_type": "markdown",
   "metadata": {},
   "source": [
    "**Propuesta de respuesta:**\n",
    "\n",
    "Linea 1. Cada vez que usamos la flechita `<-`, lo que hacemos es asignarle un nombre definido por nosotros a un espacio en la memoria. Por ejemplo, si escribimos la siguiente linea: "
   ]
  },
  {
   "cell_type": "code",
   "execution_count": 6,
   "metadata": {},
   "outputs": [],
   "source": [
    "a <- c(1,5,3,2) # Linea 1\n",
    "b <- a          # Linea 2"
   ]
  },
  {
   "cell_type": "code",
   "execution_count": 7,
   "metadata": {},
   "outputs": [
    {
     "data": {
      "text/html": [
       "'0x60b00e8'"
      ],
      "text/latex": [
       "'0x60b00e8'"
      ],
      "text/markdown": [
       "'0x60b00e8'"
      ],
      "text/plain": [
       "[1] \"0x60b00e8\""
      ]
     },
     "metadata": {},
     "output_type": "display_data"
    },
    {
     "data": {
      "text/html": [
       "'0x60b00e8'"
      ],
      "text/latex": [
       "'0x60b00e8'"
      ],
      "text/markdown": [
       "'0x60b00e8'"
      ],
      "text/plain": [
       "[1] \"0x60b00e8\""
      ]
     },
     "metadata": {},
     "output_type": "display_data"
    }
   ],
   "source": [
    "# Y ahora checamos sus direcciones en la memoria:\n",
    "lobstr::obj_addr(a)\n",
    "lobstr::obj_addr(b)"
   ]
  },
  {
   "cell_type": "code",
   "execution_count": 8,
   "metadata": {},
   "outputs": [
    {
     "data": {
      "text/html": [
       "TRUE"
      ],
      "text/latex": [
       "TRUE"
      ],
      "text/markdown": [
       "TRUE"
      ],
      "text/plain": [
       "[1] TRUE"
      ]
     },
     "metadata": {},
     "output_type": "display_data"
    }
   ],
   "source": [
    "# Podemos corroborar que son las mismas direcciones. \n",
    "lobstr::obj_addr(a) == lobstr::obj_addr(b)"
   ]
  },
  {
   "cell_type": "code",
   "execution_count": 9,
   "metadata": {},
   "outputs": [],
   "source": [
    "# Ahora, al escribir la tercera linea...\n",
    "b[[1]] <- 10"
   ]
  },
  {
   "cell_type": "code",
   "execution_count": 10,
   "metadata": {},
   "outputs": [
    {
     "data": {
      "text/html": [
       "'0x60b00e8'"
      ],
      "text/latex": [
       "'0x60b00e8'"
      ],
      "text/markdown": [
       "'0x60b00e8'"
      ],
      "text/plain": [
       "[1] \"0x60b00e8\""
      ]
     },
     "metadata": {},
     "output_type": "display_data"
    },
    {
     "data": {
      "text/html": [
       "'0x4c2a578'"
      ],
      "text/latex": [
       "'0x4c2a578'"
      ],
      "text/markdown": [
       "'0x4c2a578'"
      ],
      "text/plain": [
       "[1] \"0x4c2a578\""
      ]
     },
     "metadata": {},
     "output_type": "display_data"
    },
    {
     "data": {
      "text/html": [
       "FALSE"
      ],
      "text/latex": [
       "FALSE"
      ],
      "text/markdown": [
       "FALSE"
      ],
      "text/plain": [
       "[1] FALSE"
      ]
     },
     "metadata": {},
     "output_type": "display_data"
    }
   ],
   "source": [
    "# ... y checar las direcciones\n",
    "lobstr::obj_addr(a)\n",
    "lobstr::obj_addr(b)\n",
    "lobstr::obj_addr(a) == lobstr::obj_addr(b)\n",
    "\n",
    "# Vemos que estas han cambiado"
   ]
  },
  {
   "cell_type": "markdown",
   "metadata": {},
   "source": [
    "Los que llevamos tiempo programando en R sabemos que modificando al objeto `b` no modificamos al objeto `a`. Lo que sucedió fué que, mientras el valor asociado a `b` cambió, el objeto original no lo hizo. En vez de eso, `R` creó un nuevo objeto con una nueva dirección, como una copia del objeto original pero con un valor cambiado, y le asignó el nombre de `b` a dicho objeto copiado. A este comportamiento se le conoce como `copy-on-modify`. \n",
    "\n",
    "Una forma de ver esto es pensar en que los objetos en R son inmutables, y tener esta idea en mente nos puede ayudar a entender la manera en que el código de R funciona. \n",
    "\n",
    "Es por eso que, podemos decir que la linea en donde se activa este proceso `copy-on-modify` es en la **linea 3**."
   ]
  },
  {
   "cell_type": "markdown",
   "metadata": {},
   "source": [
    "## Ejercicios\n",
    "\n",
    "#### **Ejercicio 2.2.2 - 1. Explique la relación entre `a`, `b`, `c` y `d` en el siguiente código.**"
   ]
  },
  {
   "cell_type": "code",
   "execution_count": 11,
   "metadata": {},
   "outputs": [
    {
     "data": {
      "text/html": [
       "'0x5f2b1c0'"
      ],
      "text/latex": [
       "'0x5f2b1c0'"
      ],
      "text/markdown": [
       "'0x5f2b1c0'"
      ],
      "text/plain": [
       "[1] \"0x5f2b1c0\""
      ]
     },
     "metadata": {},
     "output_type": "display_data"
    },
    {
     "data": {
      "text/html": [
       "'0x5f2b1c0'"
      ],
      "text/latex": [
       "'0x5f2b1c0'"
      ],
      "text/markdown": [
       "'0x5f2b1c0'"
      ],
      "text/plain": [
       "[1] \"0x5f2b1c0\""
      ]
     },
     "metadata": {},
     "output_type": "display_data"
    },
    {
     "data": {
      "text/html": [
       "'0x5f2b1c0'"
      ],
      "text/latex": [
       "'0x5f2b1c0'"
      ],
      "text/markdown": [
       "'0x5f2b1c0'"
      ],
      "text/plain": [
       "[1] \"0x5f2b1c0\""
      ]
     },
     "metadata": {},
     "output_type": "display_data"
    },
    {
     "data": {
      "text/html": [
       "'0x61433f0'"
      ],
      "text/latex": [
       "'0x61433f0'"
      ],
      "text/markdown": [
       "'0x61433f0'"
      ],
      "text/plain": [
       "[1] \"0x61433f0\""
      ]
     },
     "metadata": {},
     "output_type": "display_data"
    }
   ],
   "source": [
    "a <- 1:10\n",
    "b <- a\n",
    "c <- b\n",
    "d <- 1:10\n",
    "\n",
    "## Propuesta de solución. \n",
    "# Una hipótesis válida sería explicar la relacion entre los cuatro objetos diciendo que\n",
    "# son los mismos objetos. Para probar eso, utilizaremos la función lobstr::obj_addr\n",
    "\n",
    "lobstr::obj_addr(a)\n",
    "lobstr::obj_addr(b)\n",
    "lobstr::obj_addr(c)\n",
    "lobstr::obj_addr(d)\n"
   ]
  },
  {
   "cell_type": "markdown",
   "metadata": {},
   "source": [
    "Como podemos observar del resultado del código anterior, `a`, `b` y `c` son nombres de objetos que hacen referencia a un mismo lugar en la memoria, mientras que el objeto `d` es un objeto totalmente independiente."
   ]
  },
  {
   "cell_type": "markdown",
   "metadata": {},
   "source": [
    "#### **Ejercicio 2.2.2 - 2. El siguiente código accesa a la función `mean` de múltiples maneras. ¿Todas estas maneras apuntan al mismo objeto subyacente del tipo funcion? Verifique esto con la función `lobstr::obj_addr()`**\n",
    "\n",
    "* mean\n",
    "* base::mean\n",
    "* get(\"mean\")\n",
    "* evalq(mean)\n",
    "* match.fun(mean)\n"
   ]
  },
  {
   "cell_type": "code",
   "execution_count": 12,
   "metadata": {},
   "outputs": [
    {
     "data": {
      "text/html": [
       "'0x5396af8'"
      ],
      "text/latex": [
       "'0x5396af8'"
      ],
      "text/markdown": [
       "'0x5396af8'"
      ],
      "text/plain": [
       "[1] \"0x5396af8\""
      ]
     },
     "metadata": {},
     "output_type": "display_data"
    },
    {
     "data": {
      "text/html": [
       "'0x5396af8'"
      ],
      "text/latex": [
       "'0x5396af8'"
      ],
      "text/markdown": [
       "'0x5396af8'"
      ],
      "text/plain": [
       "[1] \"0x5396af8\""
      ]
     },
     "metadata": {},
     "output_type": "display_data"
    },
    {
     "data": {
      "text/html": [
       "'0x5396af8'"
      ],
      "text/latex": [
       "'0x5396af8'"
      ],
      "text/markdown": [
       "'0x5396af8'"
      ],
      "text/plain": [
       "[1] \"0x5396af8\""
      ]
     },
     "metadata": {},
     "output_type": "display_data"
    },
    {
     "data": {
      "text/html": [
       "'0x5396af8'"
      ],
      "text/latex": [
       "'0x5396af8'"
      ],
      "text/markdown": [
       "'0x5396af8'"
      ],
      "text/plain": [
       "[1] \"0x5396af8\""
      ]
     },
     "metadata": {},
     "output_type": "display_data"
    },
    {
     "data": {
      "text/html": [
       "'0x5396af8'"
      ],
      "text/latex": [
       "'0x5396af8'"
      ],
      "text/markdown": [
       "'0x5396af8'"
      ],
      "text/plain": [
       "[1] \"0x5396af8\""
      ]
     },
     "metadata": {},
     "output_type": "display_data"
    }
   ],
   "source": [
    "## PROPUESTA DE SOLUCIÓN\n",
    "\n",
    "# 1. Abrimos la libreria magrittr\n",
    "library(magrittr)\n",
    "\n",
    "# 2. Utilizamos la función lobtr::obj_addr()  \n",
    "\n",
    "mean %>% lobstr::obj_addr()\n",
    "base::mean %>% lobstr::obj_addr()\n",
    "get(\"mean\") %>% lobstr::obj_addr()\n",
    "evalq(mean) %>% lobstr::obj_addr()\n",
    "match.fun(mean) %>% lobstr::obj_addr()\n"
   ]
  },
  {
   "cell_type": "markdown",
   "metadata": {},
   "source": [
    "Como podemos ver, todas apuntan al mismo objeto función media subyacente, con la misma dirección en la memoria."
   ]
  },
  {
   "cell_type": "code",
   "execution_count": null,
   "metadata": {},
   "outputs": [],
   "source": []
  }
 ],
 "metadata": {
  "kernelspec": {
   "display_name": "R",
   "language": "R",
   "name": "ir"
  },
  "language_info": {
   "codemirror_mode": "r",
   "file_extension": ".r",
   "mimetype": "text/x-r-source",
   "name": "R",
   "pygments_lexer": "r",
   "version": "3.5.1"
  }
 },
 "nbformat": 4,
 "nbformat_minor": 2
}
